{
 "cells": [
  {
   "cell_type": "code",
   "execution_count": 5,
   "metadata": {},
   "outputs": [
    {
     "data": {
      "text/plain": [
       "0.39968000000000004"
      ]
     },
     "execution_count": 5,
     "metadata": {},
     "output_type": "execute_result"
    }
   ],
   "source": [
    "# The probability that it will rain tomorrow is dependent on whether \n",
    "# or not it is raining today and whether or not it rained yesterday.\n",
    "\n",
    "# If it rained yesterday and today, there is a 20% chance it will rain tomorrow. If it rained one of the days, \n",
    "# there is a 60% chance it will rain tomorrow. If it rained neither today nor yesterday, there is a 20% chance it will rain tomorrow.\n",
    "\n",
    "# Given that it is raining today and that it rained yesterday, \n",
    "# write a function rain_days to calculate the probability that it will rain on the nth day after today.\n",
    "\n",
    "# TransitionMatrix: \n",
    "#     NN\tNR\tRN\tRR  \n",
    "# NN\t0.8\t0.2\t0\t0\n",
    "# NR\t0\t0\t0.4\t0.6\n",
    "# RN\t0.4\t0.6\t0\t0\n",
    "# RR\t0\t0\t0.8\t0.2\n",
    "\n",
    "import numpy as np\n",
    "\n",
    "def Calculate_Probality_Of_Rain_NthDay(n):\n",
    "\n",
    "    transitionMatrix=np.array([[0.8,0.2,0,0],[0,0,0.4,0.6],[0.4,0.6,0,0],[0,0,0.8,0.2]])\n",
    "\n",
    "    transitionMatrixProbabilityNthDay=np.linalg.matrix_power(transitionMatrix,n)\n",
    "\n",
    "    RainyDay1=transitionMatrixProbabilityNthDay[3][1]\n",
    "    RainyDay2=transitionMatrixProbabilityNthDay[3][3]\n",
    "\n",
    "    TotalProbability=RainyDay1+RainyDay2\n",
    "\n",
    "    return TotalProbability\n",
    "\n",
    "\n",
    "prob=Calculate_Probality_Of_Rain_NthDay(5)\n",
    "\n",
    "prob\n",
    "\n",
    "\n",
    "\n",
    "\n",
    "\n",
    "\n",
    "\n",
    "\n",
    "\n",
    "\n",
    "\n"
   ]
  }
 ],
 "metadata": {
  "kernelspec": {
   "display_name": "Python 3.10.5 64-bit",
   "language": "python",
   "name": "python3"
  },
  "language_info": {
   "codemirror_mode": {
    "name": "ipython",
    "version": 3
   },
   "file_extension": ".py",
   "mimetype": "text/x-python",
   "name": "python",
   "nbconvert_exporter": "python",
   "pygments_lexer": "ipython3",
   "version": "3.10.5"
  },
  "orig_nbformat": 4,
  "vscode": {
   "interpreter": {
    "hash": "64d9e0febb37c117edee39f5c7999dbd1379b9b3f86a615e65e2e5bb33bc848a"
   }
  }
 },
 "nbformat": 4,
 "nbformat_minor": 2
}
