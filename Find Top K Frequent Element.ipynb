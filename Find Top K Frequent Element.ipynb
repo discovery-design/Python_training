{
 "cells": [
  {
   "cell_type": "code",
   "execution_count": 12,
   "metadata": {},
   "outputs": [
    {
     "data": {
      "text/plain": [
       "[2, 3]"
      ]
     },
     "execution_count": 12,
     "metadata": {},
     "output_type": "execute_result"
    }
   ],
   "source": [
    "## Bir listede en çok rastlanan ilk K elemanı bulan bi fonksiyon yazalım\n",
    "## Örnek olarak [2,2,2,2,3,3,3,4,4,1] Bu diziden en çok rastlanan eleman 2 en çok rastlanan ilk 2 eleman ise 2 ve 3\n",
    "\n",
    "\n",
    "\n",
    "from collections import Counter\n",
    "\n",
    "\n",
    "def FindKThElement(AList,K):\n",
    "\n",
    "    c=Counter(AList)\n",
    "\n",
    "    result=[x for x,c in c.most_common(K)]\n",
    "    \n",
    "    return result\n",
    "\n",
    "\n",
    "res=FindKThElement([2,2,2,2,3,3,3,4,4,1],2)\n",
    "\n",
    "res\n",
    "\n",
    "\n",
    "\n",
    "\n"
   ]
  }
 ],
 "metadata": {
  "kernelspec": {
   "display_name": "Python 3.10.5 64-bit",
   "language": "python",
   "name": "python3"
  },
  "language_info": {
   "codemirror_mode": {
    "name": "ipython",
    "version": 3
   },
   "file_extension": ".py",
   "mimetype": "text/x-python",
   "name": "python",
   "nbconvert_exporter": "python",
   "pygments_lexer": "ipython3",
   "version": "3.10.5"
  },
  "orig_nbformat": 4,
  "vscode": {
   "interpreter": {
    "hash": "64d9e0febb37c117edee39f5c7999dbd1379b9b3f86a615e65e2e5bb33bc848a"
   }
  }
 },
 "nbformat": 4,
 "nbformat_minor": 2
}
