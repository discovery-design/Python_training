{
 "cells": [
  {
   "cell_type": "code",
   "execution_count": 23,
   "metadata": {},
   "outputs": [
    {
     "name": "stdout",
     "output_type": "stream",
     "text": [
      "maximum alt dizi toplami 6\n"
     ]
    }
   ],
   "source": [
    "def maxSubArraySum(nums):\n",
    "     \n",
    "    max_so_far =a[0]\n",
    "    curr_max = a[0]\n",
    "     \n",
    "    for i in range(1,len(nums)):\n",
    "        curr_max = max(nums[i], curr_max + nums[i])\n",
    "        max_so_far = max(max_so_far,curr_max)\n",
    "         \n",
    "    return max_so_far\n",
    " \n",
    "a = [-2,1,-3,4,-1,2,1,-5,4]\n",
    "print(\"maximum alt dizi toplami\",maxSubArraySum(a))\n"
   ]
  }
 ],
 "metadata": {
  "kernelspec": {
   "display_name": "Python 3.10.5 64-bit",
   "language": "python",
   "name": "python3"
  },
  "language_info": {
   "codemirror_mode": {
    "name": "ipython",
    "version": 3
   },
   "file_extension": ".py",
   "mimetype": "text/x-python",
   "name": "python",
   "nbconvert_exporter": "python",
   "pygments_lexer": "ipython3",
   "version": "3.10.5"
  },
  "orig_nbformat": 4,
  "vscode": {
   "interpreter": {
    "hash": "64d9e0febb37c117edee39f5c7999dbd1379b9b3f86a615e65e2e5bb33bc848a"
   }
  }
 },
 "nbformat": 4,
 "nbformat_minor": 2
}
