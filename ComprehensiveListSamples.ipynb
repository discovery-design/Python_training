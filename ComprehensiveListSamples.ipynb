{
 "cells": [
  {
   "cell_type": "code",
   "execution_count": 32,
   "metadata": {},
   "outputs": [
    {
     "data": {
      "text/plain": [
       "customer\n",
       "1      1\n",
       "2      3\n",
       "3      5\n",
       "4      1\n",
       "5      3\n",
       "6      3\n",
       "8      5\n",
       "9      1\n",
       "10     1\n",
       "11     4\n",
       "12     2\n",
       "13     1\n",
       "14     1\n",
       "15     2\n",
       "16     1\n",
       "17     6\n",
       "18     6\n",
       "19     2\n",
       "20    10\n",
       "21     4\n",
       "22     7\n",
       "23     3\n",
       "24     9\n",
       "25     7\n",
       "26     3\n",
       "27     2\n",
       "28     3\n",
       "29     1\n",
       "30     9\n",
       "31     4\n",
       "32     4\n",
       "33     2\n",
       "34    10\n",
       "Name: month, dtype: int32"
      ]
     },
     "execution_count": 32,
     "metadata": {},
     "output_type": "execute_result"
    }
   ],
   "source": [
    "## 1 den 10 a kadar yazdırma işini comprehensive list ile yapalım\n",
    "sayilar=[x for x in range(10)]\n",
    "sayilar\n",
    "\n",
    "\n",
    "##2 ye tam bölünün sayıları aynen yazan bölünmeyenleri 10 ile çarpıp yazan comprehensive list örneği\n",
    "nums=[12,31,5,3,7,6]\n",
    "data=[x if x%2==0 else 10*x for x in nums]\n",
    "data\n",
    "\n",
    "## stringlerden oluşan bir dizide belli bir stringin idsini veren comp list örneği\n",
    "\n",
    "liste1=[\"hakan\",\"aylin\",\"ekin\",\"şevket\",\"gamze\"]\n",
    "liste2=[x for x, v in enumerate(liste1) if v==\"şevket\"]\n",
    "liste2\n",
    "        \n",
    "##çift sayiları bulan comprehensive list örneği\n",
    "\n",
    "l1=[2,4,6,7,8,9,11]\n",
    "l2=[x for x in l1 if x%2==0]\n",
    "l2\n"
   ]
  }
 ],
 "metadata": {
  "kernelspec": {
   "display_name": "Python 3.10.5 64-bit",
   "language": "python",
   "name": "python3"
  },
  "language_info": {
   "codemirror_mode": {
    "name": "ipython",
    "version": 3
   },
   "file_extension": ".py",
   "mimetype": "text/x-python",
   "name": "python",
   "nbconvert_exporter": "python",
   "pygments_lexer": "ipython3",
   "version": "3.10.5"
  },
  "orig_nbformat": 4,
  "vscode": {
   "interpreter": {
    "hash": "64d9e0febb37c117edee39f5c7999dbd1379b9b3f86a615e65e2e5bb33bc848a"
   }
  }
 },
 "nbformat": 4,
 "nbformat_minor": 2
}
