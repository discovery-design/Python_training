{
 "cells": [
  {
   "cell_type": "code",
   "execution_count": 3,
   "metadata": {},
   "outputs": [
    {
     "name": "stdout",
     "output_type": "stream",
     "text": [
      "[0, 3]\n"
     ]
    }
   ],
   "source": [
    "def FindTwoSum(AList,TargetValue):\n",
    "    AddDictionary={}\n",
    "    n=len(AList)\n",
    "    for i in range(n):\n",
    "        if TargetValue-AList[i] in AddDictionary:\n",
    "            return [AddDictionary[TargetValue-AList[i]],i]\n",
    "        else:\n",
    "            AddDictionary[AList[i]]=i\n",
    "\n",
    "input_list = [2,8,12,15]\n",
    "hs=FindTwoSum(input_list,17)\n",
    "print(hs)\n",
    "\n",
    "\n"
   ]
  }
 ],
 "metadata": {
  "kernelspec": {
   "display_name": "Python 3.10.5 64-bit",
   "language": "python",
   "name": "python3"
  },
  "language_info": {
   "codemirror_mode": {
    "name": "ipython",
    "version": 3
   },
   "file_extension": ".py",
   "mimetype": "text/x-python",
   "name": "python",
   "nbconvert_exporter": "python",
   "pygments_lexer": "ipython3",
   "version": "3.10.5"
  },
  "orig_nbformat": 4,
  "vscode": {
   "interpreter": {
    "hash": "64d9e0febb37c117edee39f5c7999dbd1379b9b3f86a615e65e2e5bb33bc848a"
   }
  }
 },
 "nbformat": 4,
 "nbformat_minor": 2
}
