{
 "cells": [
  {
   "cell_type": "code",
   "execution_count": null,
   "metadata": {},
   "outputs": [],
   "source": [
    "#inheritance\n",
    "class MasterData:\n",
    "    Description=None\n",
    "    RecordDate=None\n",
    "    def __init__(self) -> None:\n",
    "        self.Description=Description\n",
    "        self.RecordDate=RecordDate\n",
    "\n",
    "class Brand(MasterData):\n",
    "    def __init__(self) -> None:\n",
    "        self.Description=\"Bu alanı MasterData classından miras aldık...\"\n",
    "        self.RecordDate=\"Kayıt tarihi MasterData classından geldi.\"\n",
    "      \n",
    "        \n",
    "\n",
    "\n",
    "s=Brand()\n",
    "s.Description\n",
    "s.RecordDate\n",
    "\n",
    "##Poliformfizm\n",
    "##RaiseSalary metodu 2 farklı sınıfta tanımlandı ve farklı şekilde davranabildi.\n",
    "##çok biçimlilik\n",
    "\n",
    "\n",
    "class Employee:\n",
    "\n",
    "    def RaiseSalary(self):\n",
    "        Ratio=0.3\n",
    "        Salary=1000\n",
    "        return Salary+Salary*Ratio\n",
    "\n",
    "\n",
    "\n",
    "emp=Employee()\n",
    "h=emp.RaiseSalary()\n",
    "h\n",
    "\n",
    "class ComputerEngineer:\n",
    "\n",
    "    def RaiseSalary(self):\n",
    "        Ratio=0.5\n",
    "        Salary=2000\n",
    "        return Salary+Salary*Ratio\n",
    "\n",
    "cmp=ComputerEngineer()\n",
    "h1=cmp.RaiseSalary()\n",
    "h1\n",
    "    \n",
    "\n",
    "##override\n",
    "##miras aldığımız sınıfın bir metodunu aynı isimle tekrar tanımladık ve ezmiş olduk.\n",
    "\n",
    "class Animal:\n",
    "    def SoundOfAnimal(self):\n",
    "        print(\"Hayvanlar ses çıkarır\")\n",
    "\n",
    "\n",
    "class Monkey(Animal):\n",
    "    def SoundOfAnimal(self):\n",
    "        print(\"Eşekler ai ai der\")\n",
    "\n",
    "mnk=Monkey()\n",
    "mnk.SoundOfAnimal()\n",
    "\n"
   ]
  }
 ],
 "metadata": {
  "kernelspec": {
   "display_name": "Python 3.10.5 64-bit",
   "language": "python",
   "name": "python3"
  },
  "language_info": {
   "name": "python",
   "version": "3.10.5"
  },
  "orig_nbformat": 4,
  "vscode": {
   "interpreter": {
    "hash": "64d9e0febb37c117edee39f5c7999dbd1379b9b3f86a615e65e2e5bb33bc848a"
   }
  }
 },
 "nbformat": 4,
 "nbformat_minor": 2
}
