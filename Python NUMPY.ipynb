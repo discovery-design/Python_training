{
 "cells": [
  {
   "cell_type": "code",
   "execution_count": 23,
   "metadata": {},
   "outputs": [
    {
     "name": "stdout",
     "output_type": "stream",
     "text": [
      "82\n"
     ]
    },
    {
     "data": {
      "text/plain": [
       "array([    4,     5,     7, 17314,  9128,   912,   108])"
      ]
     },
     "execution_count": 23,
     "metadata": {},
     "output_type": "execute_result"
    }
   ],
   "source": [
    "##Numerical Python Library --NUMPY\n",
    "##Numpy in en temel data yapısı n-dimensional arraydir. tek boyutlu ya da 2 boyutlu arrayleri çok kolay oluşturabilirsiniz.\n",
    "##Listelerden çok daha hızlıdır. Array ancak aynı data tipinden elemanlardan oluşabilir.\n",
    "##Numpy çok sayıda built-in fonksiyona da sahip bir kütüphanedir.\n",
    "\n",
    "import numpy as np\n",
    "\n",
    "np.array([1,2,4,56,6])\n",
    "\n",
    "np.arange(1,22,2) #başlangıç-bitiş-aralık 1 den 22 ye 2 şer 2şer sayarak gider.\n",
    "\n",
    "np.linspace(1,10,4) ##1 4 7 10 şeklinde array döner.\n",
    "\n",
    "np.array([[12,3,4,6],[34,32,31,3]]) ##matris oluşturmuş olduk...\n",
    "\n",
    "np.zeros((4,4)) ## 4 satır 4 sütunluk matris oluşturmuş olduk.\n",
    "\n",
    "np.random.random(6) ## 0 ile 1 arasında 6 ondalıklı sayı üretir.\n",
    "\n",
    "H=np.random.randint(1,100,12) ## 1ile 100 arasında 12 sayı üretir.\n",
    "\n",
    "print(np.random.choice(H)) ## 1 ile 100 arasında 12 değer ürettik ve rasgele birini seçtik...\n",
    "\n",
    "\n",
    "a=np.array([4,5,7,8657,4564,456,54])\n",
    "np.where(a<10,a,a*2) ## arrayin 10dan küçük elemanlarını aynen bıraktık büyük olanları 2 ile çarptık.\n",
    "\n",
    "\n",
    "\n",
    "\n"
   ]
  }
 ],
 "metadata": {
  "kernelspec": {
   "display_name": "Python 3.10.5 64-bit",
   "language": "python",
   "name": "python3"
  },
  "language_info": {
   "codemirror_mode": {
    "name": "ipython",
    "version": 3
   },
   "file_extension": ".py",
   "mimetype": "text/x-python",
   "name": "python",
   "nbconvert_exporter": "python",
   "pygments_lexer": "ipython3",
   "version": "3.10.5"
  },
  "orig_nbformat": 4,
  "vscode": {
   "interpreter": {
    "hash": "64d9e0febb37c117edee39f5c7999dbd1379b9b3f86a615e65e2e5bb33bc848a"
   }
  }
 },
 "nbformat": 4,
 "nbformat_minor": 2
}
