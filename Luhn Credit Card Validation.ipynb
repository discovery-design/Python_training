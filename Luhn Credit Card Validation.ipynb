{
 "cells": [
  {
   "cell_type": "code",
   "execution_count": 117,
   "metadata": {},
   "outputs": [
    {
     "data": {
      "text/plain": [
       "True"
      ]
     },
     "execution_count": 117,
     "metadata": {},
     "output_type": "execute_result"
    }
   ],
   "source": [
    "##Luhn Algoritması Kredi Kartı Numarası doğrulamak için kullanılır.\n",
    "## Kredi kartı numarası sondan başlanarak çift digitleri bulunur.\n",
    "##Bu digitlerdeki değerler 2 ile çarpılır\n",
    "##2 ile çarpılarak elde edilen değerler 9 dan büyükse 10 a bölünür kalan 1 ile toplanır.\n",
    "##Diğer digitlerdeki sayılar ile bir önceki adımda bulunan sayılar toplanır sonuç 10 a tam bölünürse kart numarası geçerlidir.\n",
    "\n",
    "def checksum(Card_No):\n",
    "    toplam=0\n",
    "    digits=[int(x) for x in Card_No]\n",
    "   ##print(digits)\n",
    "    odd_digits=digits[-1::-2]\n",
    "   ## print(odd_digits)\n",
    "    even_digits=digits[-2::-2]\n",
    "   ## print(even_digits)\n",
    "    for i in even_digits:\n",
    "        carp= i*2\n",
    "        if carp>9:\n",
    "            kalan=carp%10\n",
    "            kalan+=1\n",
    "            toplam+=kalan\n",
    "        else:\n",
    "            toplam+=carp\n",
    "    for j in odd_digits:\n",
    "        toplam+=j\n",
    "    return True if toplam%10==0 else False\n",
    "\n",
    "hs=checksum('4417123456789113')\n",
    "hs\n",
    "\n",
    "\n"
   ]
  }
 ],
 "metadata": {
  "kernelspec": {
   "display_name": "Python 3.10.5 64-bit",
   "language": "python",
   "name": "python3"
  },
  "language_info": {
   "codemirror_mode": {
    "name": "ipython",
    "version": 3
   },
   "file_extension": ".py",
   "mimetype": "text/x-python",
   "name": "python",
   "nbconvert_exporter": "python",
   "pygments_lexer": "ipython3",
   "version": "3.10.5"
  },
  "orig_nbformat": 4,
  "vscode": {
   "interpreter": {
    "hash": "64d9e0febb37c117edee39f5c7999dbd1379b9b3f86a615e65e2e5bb33bc848a"
   }
  }
 },
 "nbformat": 4,
 "nbformat_minor": 2
}
