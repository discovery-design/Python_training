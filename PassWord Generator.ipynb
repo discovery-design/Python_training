{
 "cells": [
  {
   "cell_type": "code",
   "execution_count": 40,
   "metadata": {},
   "outputs": [
    {
     "data": {
      "text/plain": [
       "'rHBUP;=pv$'"
      ]
     },
     "execution_count": 40,
     "metadata": {},
     "output_type": "execute_result"
    }
   ],
   "source": [
    "import string as st\n",
    "import random as rd\n",
    "\n",
    "def Generate_Password(min_length, numbers=True, special_characters=True):\n",
    "\n",
    "    letters=st.ascii_letters\n",
    "\n",
    "    digits=st.digits\n",
    "\n",
    "    special=st.punctuation\n",
    "\n",
    "    characters=letters\n",
    "\n",
    "    if numbers:\n",
    "\n",
    "        characters+=digits\n",
    "\n",
    "    if special_characters:\n",
    "\n",
    "        characters+=special\n",
    "\n",
    "    pwd=\"\"\n",
    "    meet_req=False\n",
    "    has_Number=False\n",
    "    has_Special=False\n",
    "\n",
    "    while meet_req is False or len(pwd)<min_length:\n",
    "\n",
    "        new_char=rd.choice(characters)\n",
    "\n",
    "        pwd+=new_char\n",
    "\n",
    "        if new_char  in digits:\n",
    "\n",
    "            has_Number=True\n",
    "\n",
    "        if new_char in special:\n",
    "\n",
    "            has_Special=True\n",
    "\n",
    "        \n",
    "\n",
    "\n",
    "        meet_req=True\n",
    "\n",
    "        if numbers:\n",
    "\n",
    "            meet_Req=has_Number\n",
    "\n",
    "        if special_characters:\n",
    "\n",
    "            meet_Req=meet_Req and has_Special\n",
    "    \n",
    "    return pwd\n",
    "\n",
    "\n",
    "hs=Generate_Password(10)\n",
    "hs\n",
    "\n",
    "\n",
    "\n",
    "\n"
   ]
  }
 ],
 "metadata": {
  "kernelspec": {
   "display_name": "Python 3.10.5 64-bit",
   "language": "python",
   "name": "python3"
  },
  "language_info": {
   "codemirror_mode": {
    "name": "ipython",
    "version": 3
   },
   "file_extension": ".py",
   "mimetype": "text/x-python",
   "name": "python",
   "nbconvert_exporter": "python",
   "pygments_lexer": "ipython3",
   "version": "3.10.5"
  },
  "orig_nbformat": 4,
  "vscode": {
   "interpreter": {
    "hash": "64d9e0febb37c117edee39f5c7999dbd1379b9b3f86a615e65e2e5bb33bc848a"
   }
  }
 },
 "nbformat": 4,
 "nbformat_minor": 2
}
