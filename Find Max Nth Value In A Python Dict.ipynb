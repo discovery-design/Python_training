{
 "cells": [
  {
   "cell_type": "code",
   "execution_count": 22,
   "metadata": {},
   "outputs": [
    {
     "data": {
      "text/plain": [
       "(77, 9999999999999)"
      ]
     },
     "execution_count": 22,
     "metadata": {},
     "output_type": "execute_result"
    }
   ],
   "source": [
    "def FindMaxNthValueOfDict(myDict,Nth):\n",
    "\n",
    "\n",
    "    yeniDict=sorted(myDict.items(),key=lambda x:x[1])\n",
    "\n",
    "\n",
    "    return yeniDict[Nth]\n",
    "\n",
    "\n",
    "\n",
    "myDict={1:110, 2:111, 3:499, 4:19990,77:9999999999999}\n",
    "\n",
    "result=FindMaxNthValueOfDict(myDict,3)\n",
    "\n",
    "result\n",
    "\n",
    "\n",
    "\n",
    "\n",
    "\n",
    "\n"
   ]
  }
 ],
 "metadata": {
  "kernelspec": {
   "display_name": "Python 3.10.5 64-bit",
   "language": "python",
   "name": "python3"
  },
  "language_info": {
   "codemirror_mode": {
    "name": "ipython",
    "version": 3
   },
   "file_extension": ".py",
   "mimetype": "text/x-python",
   "name": "python",
   "nbconvert_exporter": "python",
   "pygments_lexer": "ipython3",
   "version": "3.10.5"
  },
  "orig_nbformat": 4,
  "vscode": {
   "interpreter": {
    "hash": "64d9e0febb37c117edee39f5c7999dbd1379b9b3f86a615e65e2e5bb33bc848a"
   }
  }
 },
 "nbformat": 4,
 "nbformat_minor": 2
}
