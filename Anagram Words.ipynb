{
 "cells": [
  {
   "cell_type": "code",
   "execution_count": 12,
   "metadata": {},
   "outputs": [
    {
     "data": {
      "text/plain": [
       "True"
      ]
     },
     "execution_count": 12,
     "metadata": {},
     "output_type": "execute_result"
    }
   ],
   "source": [
    "def WordsIsAnagram(s:str,t:str)->bool:\n",
    "\n",
    "    if len(s)!=len(t):\n",
    "\n",
    "        return False\n",
    "\n",
    "    dict1={}\n",
    "\n",
    "    dict2={}\n",
    "\n",
    "    for i in range(len(s)):\n",
    "\n",
    "        dict1[s[i]]=1+dict1.get(s[i],0)\n",
    "        dict2[t[i]]=1+dict2.get(t[i],0)\n",
    "\n",
    "    return dict1==dict2\n",
    "\n",
    "\n",
    "hs=WordsIsAnagram('listen','silent')\n",
    "\n",
    "hs\n",
    "\n",
    "\n",
    "\n",
    "\n",
    "\n",
    "\n"
   ]
  }
 ],
 "metadata": {
  "kernelspec": {
   "display_name": "Python 3.10.5 64-bit",
   "language": "python",
   "name": "python3"
  },
  "language_info": {
   "codemirror_mode": {
    "name": "ipython",
    "version": 3
   },
   "file_extension": ".py",
   "mimetype": "text/x-python",
   "name": "python",
   "nbconvert_exporter": "python",
   "pygments_lexer": "ipython3",
   "version": "3.10.5"
  },
  "orig_nbformat": 4,
  "vscode": {
   "interpreter": {
    "hash": "64d9e0febb37c117edee39f5c7999dbd1379b9b3f86a615e65e2e5bb33bc848a"
   }
  }
 },
 "nbformat": 4,
 "nbformat_minor": 2
}
